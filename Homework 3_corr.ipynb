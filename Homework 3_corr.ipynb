{
 "cells": [
  {
   "cell_type": "code",
   "execution_count": 1,
   "metadata": {},
   "outputs": [],
   "source": [
    "import seaborn as sns\n",
    "data = sns.load_dataset('tips')\n",
    "\n",
    "X = data[['total_bill']]\n",
    "y = data['tip']"
   ]
  },
  {
   "cell_type": "code",
   "execution_count": 2,
   "metadata": {},
   "outputs": [
    {
     "name": "stdout",
     "output_type": "stream",
     "text": [
      "Mean Squared Error: 0.5688142529229537\n"
     ]
    }
   ],
   "source": [
    "# Дополните код для работы программы на месте троеточия \"...\"\n",
    "\n",
    "# Импортируйте функцию train_test_split и линейную регрессию\n",
    "# А также MSE\n",
    "from sklearn.model_selection import train_test_split\n",
    "from sklearn.linear_model import LinearRegression\n",
    "from sklearn.metrics import mean_squared_error\n",
    "\n",
    "# Разделите данные на тренировочную и тестовые выборки, с отношением 20%\n",
    "from sklearn.model_selection import train_test_split\n",
    "\n",
    "# X - данные, y - целевая переменная\n",
    "\n",
    "X_train, X_test, y_train, y_test = train_test_split(X, y, test_size=0.2, random_state=42)\n",
    "\n",
    "# test_size=0.2 означает, что 20% данных будет отведено на тестовую выборку\n",
    "# random_state=42 гарантирует, что разделение данных будет воспроизводимым\n",
    "\n",
    "# Инициализируйте и обучите модель на тренировочной выборке \n",
    "from sklearn.linear_model import LinearRegression\n",
    "\n",
    "# Инициализация модели\n",
    "model = LinearRegression()\n",
    "\n",
    "# Обучение модели на тренировочной выборке\n",
    "model.fit(X_train, y_train)\n",
    "# Сделайте предсказание на тестовой выборке\n",
    "pred = model.predict(X_test)\n",
    "\n",
    "# Выведите среднеквадратичную ошибку предсказания\n",
    "from sklearn.metrics import mean_squared_error\n",
    "\n",
    "# Вычисление среднеквадратичной ошибки между фактическими и предсказанными значениями\n",
    "mse = mean_squared_error(y_test, pred)\n",
    "\n",
    "# Вывод среднеквадратичной ошибки\n",
    "print('Mean Squared Error:', mse)"
   ]
  },
  {
   "cell_type": "code",
   "execution_count": 3,
   "metadata": {},
   "outputs": [
    {
     "name": "stdout",
     "output_type": "stream",
     "text": [
      "Результаты кросс-валидации: [0.55056043 0.6192854  0.47423732 0.23796202 0.40067601]\n",
      "Среднее значение результатов кросс-валидации: 0.45654423588476317\n"
     ]
    }
   ],
   "source": [
    "# Импортируйте кросс-валидацию\n",
    "from sklearn.model_selection import cross_val_score\n",
    "\n",
    "# Инициализируйте кросс-валидацию с 5ю фолдами\n",
    "cross_val_scores = cross_val_score(model, X, y, cv=5)\n",
    "\n",
    "# Выведите результаты кросс-валидации и среднее\n",
    "print(\"Результаты кросс-валидации:\", cross_val_scores)\n",
    "mean_score = cross_val_scores.mean()\n",
    "print(\"Среднее значение результатов кросс-валидации:\", mean_score)"
   ]
  },
  {
   "cell_type": "code",
   "execution_count": null,
   "metadata": {},
   "outputs": [],
   "source": []
  }
 ],
 "metadata": {
  "kernelspec": {
   "display_name": "Python 3 (ipykernel)",
   "language": "python",
   "name": "python3"
  },
  "language_info": {
   "codemirror_mode": {
    "name": "ipython",
    "version": 3
   },
   "file_extension": ".py",
   "mimetype": "text/x-python",
   "name": "python",
   "nbconvert_exporter": "python",
   "pygments_lexer": "ipython3",
   "version": "3.7.0"
  }
 },
 "nbformat": 4,
 "nbformat_minor": 4
}
